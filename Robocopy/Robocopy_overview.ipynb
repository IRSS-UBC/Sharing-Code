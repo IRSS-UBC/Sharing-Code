{
  "cells": [
    {
      "cell_type": "raw",
      "metadata": {},
      "source": [
        "---\n",
        "title: \"Robocopy\"\n",
        "author: \"Sarah Smith-Tripp\"\n",
        "format:\n",
        "  revealjs: \n",
        "    theme: dark\n",
        "editor: visual\n",
        "---"
      ],
      "id": "b7d6386a"
    },
    {
      "cell_type": "markdown",
      "metadata": {},
      "source": [
        "## Robocopy\n",
        "\n",
        "Robocopy, also called 'robust file copy' is a great tool to quickly and safely backup your data. It even allows you to backup your data in *paralel*\n",
        "\n",
        "#### Alternative title: \n",
        "\n",
        "#### How to go from Wall-E to Eve\n",
        "\n",
        "![](images/paste-7C34FB45.png)\n",
        "\n",
        "## Likelihood of a Harddrive Failure\n",
        "\n",
        "-   HDD have a 5% annual failure rate and SST have a 0.7 annual failure rate\n",
        "\n",
        "-   If there are 50 computers in the lab\n",
        "\n",
        "    -   3 hard drives per person\n",
        "\n",
        "    -   150 hard drives\n",
        "\n",
        "    -   5 people likely to be effected each year\n",
        "\n",
        "    -   *the answer is likely higher for us because are computers are burning up in our rooms*\n",
        "\n",
        "## Robocopy\n",
        "\n",
        "Robocopy syntax is broadly this:\n"
      ],
      "id": "643d904f"
    },
    {
      "cell_type": "code",
      "metadata": {},
      "source": [
        "<source> <destination> [<file>[ ...]] [<options>]\n",
        "<options> : "
      ],
      "id": "be109b90",
      "execution_count": null,
      "outputs": []
    },
    {
      "cell_type": "markdown",
      "metadata": {},
      "source": [
        "Available options include:\n",
        "\n",
        "-   /s - copy subdirectories, but not empty directories\n",
        "\n",
        "-   /e - copy subdirectories including empty directories\n",
        "\n",
        "-   /z copy in restartable mode\n",
        "\n",
        "-   /b copy in backup mode which can copy as an administrator\n",
        "\n",
        "-   /mir mirroes a directory tree **and deletes files in the destination that are not in the source** \\*\\* User be wary: I once mixed up my source and destination and ended up deleting a TON of files!\n",
        "\n",
        "-   /mt\\[:n\\] copies in parallel\n",
        "\n",
        "-   /xd exclude a directory\n",
        "\n",
        "-   /xo if the file exists and is the same date or newer don't overwrite\n",
        "\n",
        "## Example Backup Script\n",
        "\n",
        "    robocopy D:\\SmithTripp E:\\BackUps /MIR /Z /MT:32  /R:15 /W:30 /V /NP /LOG:Backup.log\n",
        "\n",
        "In lay terms: \"please copy all of the files off of the source (D:\\\\SmithTripp) and place them into the destination (E:\\\\Backups) using parallel (using 32 nodes) in restartable mode. If the file no longer exists in the source delete in the destination. If the file is open, wait 30 seconds and try again for a total 15 times. Log this backup to a text file."
      ],
      "id": "d8651324"
    }
  ],
  "metadata": {
    "kernelspec": {
      "display_name": "Python 3",
      "language": "python",
      "name": "python3"
    }
  },
  "nbformat": 4,
  "nbformat_minor": 5
}